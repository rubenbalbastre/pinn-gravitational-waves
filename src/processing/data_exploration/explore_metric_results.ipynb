{
 "cells": [
  {
   "cell_type": "markdown",
   "metadata": {},
   "source": [
    "# Waveform exploration\n",
    "\n",
    "This notebook aims to explore waveforms"
   ]
  },
  {
   "cell_type": "code",
   "execution_count": null,
   "metadata": {},
   "outputs": [],
   "source": [
    "import pandas as pd"
   ]
  },
  {
   "cell_type": "code",
   "execution_count": 4,
   "metadata": {},
   "outputs": [
    {
     "data": {
      "text/html": [
       "<div>\n",
       "<style scoped>\n",
       "    .dataframe tbody tr th:only-of-type {\n",
       "        vertical-align: middle;\n",
       "    }\n",
       "\n",
       "    .dataframe tbody tr th {\n",
       "        vertical-align: top;\n",
       "    }\n",
       "\n",
       "    .dataframe thead th {\n",
       "        text-align: right;\n",
       "    }\n",
       "</style>\n",
       "<table border=\"1\" class=\"dataframe\">\n",
       "  <thead>\n",
       "    <tr style=\"text-align: right;\">\n",
       "      <th></th>\n",
       "      <th>niter</th>\n",
       "      <th>test_name</th>\n",
       "      <th>train_losses</th>\n",
       "      <th>test_losses</th>\n",
       "      <th>train_metrics</th>\n",
       "      <th>test_metrics</th>\n",
       "    </tr>\n",
       "  </thead>\n",
       "  <tbody>\n",
       "    <tr>\n",
       "      <th>0</th>\n",
       "      <td>1</td>\n",
       "      <td>original/</td>\n",
       "      <td>0.022516</td>\n",
       "      <td>0.017304</td>\n",
       "      <td>0.279390</td>\n",
       "      <td>0.131542</td>\n",
       "    </tr>\n",
       "    <tr>\n",
       "      <th>1</th>\n",
       "      <td>2</td>\n",
       "      <td>original/</td>\n",
       "      <td>0.022387</td>\n",
       "      <td>0.017459</td>\n",
       "      <td>0.275149</td>\n",
       "      <td>0.131300</td>\n",
       "    </tr>\n",
       "    <tr>\n",
       "      <th>2</th>\n",
       "      <td>3</td>\n",
       "      <td>original/</td>\n",
       "      <td>0.022346</td>\n",
       "      <td>0.017416</td>\n",
       "      <td>0.275050</td>\n",
       "      <td>0.131270</td>\n",
       "    </tr>\n",
       "    <tr>\n",
       "      <th>3</th>\n",
       "      <td>4</td>\n",
       "      <td>original/</td>\n",
       "      <td>0.022219</td>\n",
       "      <td>0.017287</td>\n",
       "      <td>0.274656</td>\n",
       "      <td>0.131168</td>\n",
       "    </tr>\n",
       "    <tr>\n",
       "      <th>4</th>\n",
       "      <td>5</td>\n",
       "      <td>original/</td>\n",
       "      <td>0.036991</td>\n",
       "      <td>0.017298</td>\n",
       "      <td>0.383393</td>\n",
       "      <td>0.131188</td>\n",
       "    </tr>\n",
       "  </tbody>\n",
       "</table>\n",
       "</div>"
      ],
      "text/plain": [
       "   niter  test_name  train_losses  test_losses  train_metrics  test_metrics\n",
       "0      1  original/      0.022516     0.017304       0.279390      0.131542\n",
       "1      2  original/      0.022387     0.017459       0.275149      0.131300\n",
       "2      3  original/      0.022346     0.017416       0.275050      0.131270\n",
       "3      4  original/      0.022219     0.017287       0.274656      0.131168\n",
       "4      5  original/      0.036991     0.017298       0.383393      0.131188"
      ]
     },
     "execution_count": 4,
     "metadata": {},
     "output_type": "execute_result"
    }
   ],
   "source": [
    "df = pd.read_csv(\"../data/output/case_2/original/solutions/SXS1_losses.csv\")\n",
    "df.head()"
   ]
  },
  {
   "cell_type": "code",
   "execution_count": 5,
   "metadata": {},
   "outputs": [
    {
     "data": {
      "image/png": "[encoded data removed]",
      "text/plain": [
       "<Figure size 432x288 with 1 Axes>"
      ]
     },
     "metadata": {
      "needs_background": "light"
     },
     "output_type": "display_data"
    }
   ],
   "source": [
    "df = df[df[\"test_name\"] == \"original/\"]\n",
    "plt.plot(df['niter'], df['test_metrics'], label=\"test\")\n",
    "# plt.plot(df['niter'], df['train_metrics'], label=\"train\")\n",
    "plt.legend();"
   ]
  },
  {
   "cell_type": "code",
   "execution_count": 7,
   "metadata": {},
   "outputs": [
    {
     "data": {
      "image/png": "[encoded data removed]",
      "text/plain": [
       "<Figure size 432x288 with 1 Axes>"
      ]
     },
     "metadata": {
      "needs_background": "light"
     },
     "output_type": "display_data"
    }
   ],
   "source": [
    "df = df[df[\"test_name\"] == \"original/\"]\n",
    "# plt.plot(df['niter'], df['test_losses'], label=\"test\")\n",
    "plt.plot(df['niter'], df['train_losses'], label=\"train\")\n",
    "plt.legend();"
   ]
  }
 ],
 "metadata": {
  "interpreter": {
   "hash": "f361b19683e43254e6d4d047d78675108781ad4a67b8e020b2af7a5bca2ad044"
  },
  "kernelspec": {
   "display_name": "Python 3.9.7 64-bit ('MCD_21_22': conda)",
   "language": "python",
   "name": "python3"
  },
  "language_info": {
   "codemirror_mode": {
    "name": "ipython",
    "version": 3
   },
   "file_extension": ".py",
   "mimetype": "text/x-python",
   "name": "python",
   "nbconvert_exporter": "python",
   "pygments_lexer": "ipython3",
   "version": "3.9.7"
  },
  "orig_nbformat": 4
 },
 "nbformat": 4,
 "nbformat_minor": 2
}
