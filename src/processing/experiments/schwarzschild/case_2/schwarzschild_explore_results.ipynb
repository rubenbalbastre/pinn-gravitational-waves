{
 "cells": [
  {
   "cell_type": "markdown",
   "metadata": {},
   "source": [
    "# Explore Case 2 - Schwarzschild Results"
   ]
  },
  {
   "cell_type": "markdown",
   "metadata": {},
   "source": [
    "## import utils"
   ]
  },
  {
   "cell_type": "code",
   "execution_count": 1,
   "metadata": {},
   "outputs": [],
   "source": [
    "project_path = \"../../../../../\"\n",
    "utils_path = project_path * \"src/utils/\"\n",
    "\n",
    "data_path = project_path * \"data/input/case_2/\";\n",
    "output_directory = project_path * \"data/output/case_2/schwarzschild/\";"
   ]
  },
  {
   "cell_type": "code",
   "execution_count": 2,
   "metadata": {},
   "outputs": [
    {
     "name": "stderr",
     "output_type": "stream",
     "text": [
      "\u001b[32m\u001b[1m  Activating\u001b[22m\u001b[39m project at `~/Escritorio/TFM/code/01_project`\n"
     ]
    }
   ],
   "source": [
    "\n",
    "cd(@__DIR__)\n",
    "using Pkg; Pkg.activate(project_path); \n",
    "Pkg.instantiate();\n",
    "\n",
    "using OrdinaryDiffEq;\n",
    "using Optim;\n",
    "using DiffEqSensitivity;\n",
    "using Plots;\n",
    "using Flux;\n",
    "\n",
    "\n",
    "import Statistics: mean, sqrt\n",
    "import CSV: CSV\n",
    "import DataFrames: DataFrame, select, filter\n",
    "import DiffEqFlux: sciml_train\n",
    "import Random: seed!\n",
    "import LineSearches: BackTracking\n",
    "import DelimitedFiles: readdlm\n",
    "import BSON: @save, @load\n",
    "# gr(); # specify backend for plotting\n"
   ]
  },
  {
   "cell_type": "code",
   "execution_count": null,
   "metadata": {},
   "outputs": [],
   "source": [
    "\n",
    "include(utils_path * \"utils.jl\")\n",
    "import_project_utils(utils_path);"
   ]
  },
  {
   "cell_type": "code",
   "execution_count": null,
   "metadata": {},
   "outputs": [],
   "source": [
    "# specify random seed\n",
    "seed = 1234;\n",
    "seed!(seed)\n",
    "\n",
    "# script conditions\n",
    "show_plots = false\n",
    "save_plots_gif = false\n",
    "save_data = true\n",
    "\n",
    "# paths\n",
    "test_name = \"test_1_cos/\"\n",
    "model_name = \"test_1_cos/\"\n",
    "\n",
    "output_dir = output_directory* \"models/\" * test_name\n",
    "solutions_dir = output_dir * \"solutions/\"\n",
    "predictions_dir = output_dir * \"predictions/\"\n",
    "metrics_dir = output_directory * \"metrics/\"\n",
    "img_dir = output_dir * \"train_img_for_gif/\"\n",
    "list_directories = (output_dir, solutions_dir, metrics_dir, img_dir)\n",
    "create_directories(list_directories)"
   ]
  },
  {
   "cell_type": "markdown",
   "metadata": {},
   "source": [
    "## Dataset"
   ]
  },
  {
   "cell_type": "code",
   "execution_count": null,
   "metadata": {},
   "outputs": [],
   "source": [
    "# time range\n",
    "datasize = 1500\n",
    "dt = 10.0\n",
    "\n",
    "# Load SXS Dataset\n",
    "wave_ids = [\n",
    "    \"SXS:BBH:0211\",\n",
    "    \"SXS:BBH:0217\"\n",
    "]\n",
    "\n",
    "println(\"Load SXS Dataset\")\n",
    "dataset = load_sxs_data(wave_ids, data_path);"
   ]
  },
  {
   "cell_type": "markdown",
   "metadata": {},
   "source": [
    "## Load NN Model"
   ]
  },
  {
   "cell_type": "code",
   "execution_count": null,
   "metadata": {},
   "outputs": [],
   "source": [
    "println(\"Defining model\")\n",
    "n_neurons = 32\n",
    "nn_output = nn_model_case2(model_name, n_neurons, tanh)\n",
    "_, _, _, _, _, chain_chiphi, chain_pe, _, _ = nn_output\n",
    "\n",
    "# load saved models\n",
    "@load solutions_dir*\"model_chiphi.bson\" chain_phichi\n",
    "@load solutions_dir*\"model_pe.bson\" chain_pe\n",
    "\n",
    "# restructure chains\n",
    "NN_phichi_params, re_chiphi = Flux.destructure(chain_phichi)\n",
    "NN_phichi(u, NN_phichi_params) = re_chiphi(NN_phichi_params)(u)\n",
    "NN_pe_params, re_pe = Flux.destructure(chain_pe)\n",
    "NN_pe(u, NN_pe_params) = re_pe(NN_pe_params)(u);\n",
    "\n",
    "global NN_params\n",
    "NN_params = vcat(NN_phichi_params,NN_pe_params)\n",
    "l1 = length(NN_phichi_params);"
   ]
  },
  {
   "cell_type": "code",
   "execution_count": null,
   "metadata": {},
   "outputs": [],
   "source": [
    "dataset = add_neural_network_problem_to_dataset(dataset, nn_output);"
   ]
  },
  {
   "cell_type": "code",
   "execution_count": null,
   "metadata": {},
   "outputs": [],
   "source": [
    "dataset_train = Dict([key => value for (key, value) in dataset if key != wave_ids[end]]);\n",
    "dataset_test = Dict([key => value for (key, value) in dataset if key == wave_ids[end]]);"
   ]
  },
  {
   "cell_type": "markdown",
   "metadata": {},
   "source": [
    "## Get predictions"
   ]
  },
  {
   "cell_type": "code",
   "execution_count": null,
   "metadata": {},
   "outputs": [],
   "source": [
    "# save predictions\n",
    "processed_data = Dict(\"train\" => dataset_train, \"test\" => dataset_test)\n",
    "predictions = Dict(\"train\" => [], \"test\" => [])\n",
    "\n",
    "for (set, set_data) in processed_data\n",
    "\n",
    "    for (wave_id, wave) in set_data\n",
    "\n",
    "        println(\"Obtaining predictions for: \", set, \" : \", wave[\"wave_id\"])\n",
    "\n",
    "        solution_nn = Array(\n",
    "            solve(wave[\"nn_problem\"], RK4(), u0 = wave[\"u0\"], \n",
    "            p = NN_params, saveat = wave[\"tsteps\"], \n",
    "            dt = wave[\"dt_data\"], adaptive=false\n",
    "        ))\n",
    "\n",
    "        predictions_wave_i = Dict()\n",
    "\n",
    "        predictions_wave_i[\"tsteps\"] = wave[\"tsteps\"]\n",
    "        predictions_wave_i[\"true_waveform\"] = wave[\"true_waveform\"]\n",
    "        predictions_wave_i[\"pred_waveform\"], _ = compute_waveform(wave[\"dt_data\"], solution_nn, wave[\"q\"], wave[\"M\"], wave[\"model_params\"])\n",
    "        predictions_wave_i[\"pred_solution\"] = solution_nn\n",
    "        # predictions_wave_i[\"true_solution\"] = wave[\"true_solution\"]\n",
    "\n",
    "        pred_orbit = soln2orbit(solution_nn, wave[\"M\"], wave[\"model_params\"])\n",
    "        pred_orbit_1, pred_orbit_2 = one2two(pred_orbit, wave[\"mass1\"], wave[\"mass2\"])\n",
    "        predictions_wave_i[\"pred_orbit_1\"] = pred_orbit_1\n",
    "        predictions_wave_i[\"pred_orbit_2\"] = pred_orbit_2\n",
    "\n",
    "        # true_orbit = soln2orbit(wave[\"true_solution\"], wave[\"M\"], wave[\"model_params\"])\n",
    "        # true_orbit_1, true_orbit_2 = one2two(true_orbit, wave[\"mass1\"], wave[\"mass2\"])\n",
    "        # predictions_wave_i[\"true_orbit_1\"] = true_orbit_1\n",
    "        # predictions_wave_i[\"true_orbit_2\"] = true_orbit_2\n",
    "\n",
    "        predictions_wave_i[\"true_orbit_x1\"] = wave[\"true_orbit_x1\"]\n",
    "        predictions_wave_i[\"true_orbit_y1\"] = wave[\"true_orbit_y1\"]\n",
    "        predictions_wave_i[\"true_orbit_x2\"] = wave[\"true_orbit_x2\"]\n",
    "        predictions_wave_i[\"true_orbit_y2\"] = wave[\"true_orbit_y2\"]\n",
    "\n",
    "        push!(predictions[set], predictions_wave_i)\n",
    "\n",
    "    end\n",
    "\n",
    "end\n"
   ]
  },
  {
   "cell_type": "markdown",
   "metadata": {},
   "source": [
    "## Save predictions"
   ]
  },
  {
   "cell_type": "code",
   "execution_count": null,
   "metadata": {},
   "outputs": [],
   "source": [
    "# NOTE: this can be easily convert into a function and iterate over systems to save info\n",
    "\n",
    "set = \"train\" # \"test\"\n",
    "wave_index = 1 #\n",
    "\n",
    "waveform_results_to_save = predictions[set][wave_index]\n",
    "\n",
    "orbits = DataFrame(\n",
    "    \"tsteps\" => waveform_results_to_save[\"tsteps\"],\n",
    "    \"pred_orbit_x1\" => waveform_results_to_save[\"pred_orbit_1\"][1, :],\n",
    "    \"pred_orbit_y1\" => waveform_results_to_save[\"pred_orbit_1\"][2, :],\n",
    "    \"true_orbit_x1\" => waveform_results_to_save[\"true_orbit_x1\"],\n",
    "    \"true_orbit_y1\" => waveform_results_to_save[\"true_orbit_y1\"],\n",
    "    \"pred_orbit_x2\" => waveform_results_to_save[\"pred_orbit_2\"][1, :],\n",
    "    \"pred_orbit_y2\" => waveform_results_to_save[\"pred_orbit_2\"][2, :],\n",
    "    \"true_orbit_x2\" => waveform_results_to_save[\"true_orbit_x2\"],\n",
    "    \"true_orbit_y2\" => waveform_results_to_save[\"true_orbit_y2\"],\n",
    "\n",
    ")\n",
    "\n",
    "equation_of_motion = DataFrame(\n",
    "    \"tsteps\" => waveform_results_to_save[\"tsteps\"],\n",
    "    \"pred_solution_chi\" => waveform_results_to_save[\"pred_solution\"][1, :],\n",
    "    \"pred_solution_phi\" => waveform_results_to_save[\"pred_solution\"][2, :],\n",
    "    \"pred_solution_p\" => waveform_results_to_save[\"pred_solution\"][3, :],\n",
    "    \"pred_solution_e\" => waveform_results_to_save[\"pred_solution\"][4, :],\n",
    "    # \"true_solution_chi\" => waveform_results_to_save[\"true_solution\"][1, :],\n",
    "    # \"true_solution_phi\" => waveform_results_to_save[\"true_solution\"][2, :],\n",
    "    # \"true_solution_p\" => waveform_results_to_save[\"true_solution\"][3, :],\n",
    "    # \"true_solution_e\" => waveform_results_to_save[\"true_solution\"][4, :]\n",
    ")\n",
    "\n",
    "waveforms = DataFrame(\n",
    "    \"tsteps\" => waveform_results_to_save[\"tsteps\"],\n",
    "    \"pred_waveform\" => waveform_results_to_save[\"pred_waveform\"],\n",
    "    \"true_waveform\" => waveform_results_to_save[\"true_waveform\"]\n",
    ")\n",
    "\n",
    "\n",
    "CSV.write(predictions_dir*\"waveforms.csv\", waveforms)\n",
    "CSV.write(predictions_dir*\"equation_of_motion.csv\", equation_of_motion)\n",
    "CSV.write(predictions_dir*\"orbits.csv\", orbits);"
   ]
  },
  {
   "cell_type": "markdown",
   "metadata": {},
   "source": [
    "## Plots"
   ]
  },
  {
   "cell_type": "code",
   "execution_count": null,
   "metadata": {},
   "outputs": [],
   "source": [
    "\n",
    "plot_list = [];\n",
    "\n",
    "for (set, set_data) in predictions\n",
    "\n",
    "    for wave in set_data\n",
    "\n",
    "        # waveforms\n",
    "        x1 = plot(\n",
    "            wave[\"tsteps\"], \n",
    "            wave[\"true_waveform\"],\n",
    "            label=\"wform data (Re)\", \n",
    "            # title=\"Waveforms\",\n",
    "            titlefontsize = 24,\n",
    "            legendfontsize = legend_font_size,\n",
    "            guidefontsize=title_font_size,\n",
    "            gridalpha=grid_alpha,\n",
    "            gridstyle=grid_style,\n",
    "            tickfontsize=tick_font_size,\n",
    "            color=:black,\n",
    "            seriestype=:scatter,\n",
    "            ms=5,\n",
    "            markershape=:none,\n",
    "            size=(1200, 450),\n",
    "            # bottom_margin = 10Plots.mm,\n",
    "            left_margin = 25Plots.mm,\n",
    "            right_margin = 10Plots.mm,\n",
    "            # top_margin = 10Plots.mm,\n",
    "            framestyle=:box,\n",
    "            legend=:top, \n",
    "            legend_column=2,\n",
    "            xlabel=\"Time\",\n",
    "            ylabel=\"Waveform\"\n",
    "            )\n",
    "        plot!(\n",
    "            x1, \n",
    "            wave[\"tsteps\"], \n",
    "            wave[\"pred_waveform\"],\n",
    "            linewidth = line_width, label=\"wform NN (Re)\"\n",
    "        )\n",
    "\n",
    "        # orbits\n",
    "        x2 = plot(\n",
    "            wave[\"pred_orbit_1\"][1, :], wave[\"pred_orbit_1\"][2, :],\n",
    "            label=\"data\", \n",
    "            # title=set_title(index),\n",
    "            aspect_ratio=:equal,\n",
    "            titlefontsize = title_font_size,\n",
    "            legendfontsize = legend_font_size,\n",
    "            guidefontsize=title_font_size,\n",
    "            gridalpha=grid_alpha,\n",
    "            gridstyle=grid_style,\n",
    "            tickfontsize=tick_font_size,\n",
    "            markershape=:none,\n",
    "            color=:black,\n",
    "            # bottom_margin = 10Plots.mm,\n",
    "            left_margin = 20Plots.mm,\n",
    "            right_margin = 10Plots.mm,\n",
    "            # top_margin = 5Plots.mm,\n",
    "            framestyle=:box,\n",
    "            # legend=:outertop,\n",
    "            # legend_column=2,\n",
    "            linewidth=line_width,\n",
    "            xlabel=\"x\",\n",
    "            ylabel=\"y\"\n",
    "            )\n",
    "        plot!(x2, wave[\"pred_orbit_2\"][1, :], wave[\"pred_orbit_2\"][2, :],\n",
    "            linewidth=line_width,\n",
    "            label=\"NN\", \n",
    "            # title= \"\"*wave_id_dict[index], \n",
    "            linestyle=:dash\n",
    "            )\n",
    "\n",
    "        # p, e\n",
    "        p = wave[\"pred_solution\"][3, :]\n",
    "        e = wave[\"pred_solution\"][4, :]\n",
    "        x3 = plot(\n",
    "            wave[\"tsteps\"], p, \n",
    "            label=\"semi-latus rectum\",\n",
    "            #  title=set_title(index),\n",
    "            titlefontsize = title_font_size,\n",
    "            legendfontsize = legend_font_size,\n",
    "            guidefontsize=title_font_size,\n",
    "            gridalpha=grid_alpha,\n",
    "            gridstyle=grid_style,\n",
    "            tickfontsize=tick_font_size,\n",
    "            markershape=:none,\n",
    "            # bottom_margin = 10Plots.mm,\n",
    "            left_margin = 10Plots.mm,\n",
    "            right_margin = 10Plots.mm,\n",
    "            # top_margin = 10Plots.mm,\n",
    "            framestyle=:box,\n",
    "            legend=:best,\n",
    "            linewidth=line_width,\n",
    "            xlabel=\"Tiempo\"\n",
    "        )\n",
    "        plot!(twinx(), wave[\"tsteps\"], e, linewidth = line_width, color=2, label=\"excentricidad\",\n",
    "        titlefontsize = title_font_size,\n",
    "        legendfontsize = legend_font_size,\n",
    "        guidefontsize=title_font_size,\n",
    "        gridalpha=grid_alpha,\n",
    "        gridstyle=grid_style,\n",
    "        tickfontsize=tick_font_size,\n",
    "        framstyle=:box,\n",
    "        legend=:left\n",
    "        )\n",
    "\n",
    "        l = @layout [[a{0.4w} b]; c{0.6h}]\n",
    "        x = plot(x3, x2, x1, layout=l)\n",
    "        push!(plot_list, x)\n",
    "    end\n",
    "end\n",
    "\n",
    "l = @layout [grid(2,1)]\n",
    "plt = plot(plot_list..., layout=l, size=(2000,3000));\n"
   ]
  },
  {
   "cell_type": "code",
   "execution_count": null,
   "metadata": {},
   "outputs": [],
   "source": [
    "display(plt)"
   ]
  },
  {
   "cell_type": "code",
   "execution_count": null,
   "metadata": {},
   "outputs": [],
   "source": [
    "savefig(plt, predictions_dir*\"plot.png\")\n",
    "savefig(plt, predictions_dir*\"plot.pdf\")"
   ]
  }
 ],
 "metadata": {
  "kernelspec": {
   "display_name": "Julia 1.8.2",
   "language": "julia",
   "name": "julia-1.8"
  },
  "language_info": {
   "file_extension": ".jl",
   "mimetype": "application/julia",
   "name": "julia",
   "version": "1.8.2"
  }
 },
 "nbformat": 4,
 "nbformat_minor": 2
}
