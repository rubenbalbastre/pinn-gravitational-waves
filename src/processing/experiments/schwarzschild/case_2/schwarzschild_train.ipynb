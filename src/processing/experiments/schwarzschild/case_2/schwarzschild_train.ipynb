{
 "cells": [
  {
   "cell_type": "markdown",
   "metadata": {},
   "source": [
    "## Case 2 Experiments: equal mass BBH"
   ]
  },
  {
   "cell_type": "code",
   "execution_count": 2,
   "metadata": {},
   "outputs": [],
   "source": [
    "project_path = \"../../../../../\"\n",
    "utils_path = project_path * \"src/utils/\"\n",
    "\n",
    "data_path = project_path * \"data/input/case_2/\";\n",
    "output_directory = project_path * \"data/output/case_2/schwarzschild/\";"
   ]
  },
  {
   "cell_type": "code",
   "execution_count": 3,
   "metadata": {},
   "outputs": [
    {
     "name": "stderr",
     "output_type": "stream",
     "text": [
      "\u001b[32m\u001b[1m  Activating\u001b[22m\u001b[39m project at `~/Escritorio/TFM/code/01_project`\n"
     ]
    }
   ],
   "source": [
    "\n",
    "cd(@__DIR__)\n",
    "using Pkg; Pkg.activate(project_path); \n",
    "Pkg.instantiate();\n",
    "\n",
    "using OrdinaryDiffEq;\n",
    "using Optim;\n",
    "using DiffEqSensitivity;\n",
    "using Plots;\n",
    "using Flux;\n",
    "\n",
    "\n",
    "import Statistics: mean, sqrt\n",
    "import CSV: CSV\n",
    "import DataFrames: DataFrame, select, filter\n",
    "import DiffEqFlux: sciml_train\n",
    "import Random: seed!\n",
    "import LineSearches: BackTracking\n",
    "import DelimitedFiles: readdlm\n",
    "import BSON: @save, @load\n",
    "# gr(); # specify backend for plotting\n"
   ]
  },
  {
   "cell_type": "code",
   "execution_count": 4,
   "metadata": {},
   "outputs": [],
   "source": [
    "\n",
    "include(utils_path * \"utils.jl\")\n",
    "import_project_utils(utils_path);"
   ]
  },
  {
   "cell_type": "code",
   "execution_count": 5,
   "metadata": {},
   "outputs": [],
   "source": [
    "# specify random seed\n",
    "seed = 1234;\n",
    "seed!(seed)\n",
    "\n",
    "# script conditions\n",
    "show_plots = false\n",
    "save_plots_gif = false\n",
    "save_data = true\n",
    "\n",
    "# paths\n",
    "test_name = \"test_1_cos/\"\n",
    "model_name = \"test_1_cos/\"\n",
    "\n",
    "output_dir = output_directory* \"models/\" * test_name\n",
    "solutions_dir = output_dir * \"solutions/\"\n",
    "predictions_dir = output_dir * \"predictions/\"\n",
    "metrics_dir = output_directory * \"metrics/\"\n",
    "img_dir = output_dir * \"train_img_for_gif/\"\n",
    "list_directories = (output_dir, solutions_dir, metrics_dir, img_dir, predictions_dir)\n",
    "create_directories(list_directories)"
   ]
  },
  {
   "cell_type": "markdown",
   "metadata": {},
   "source": [
    "## Dataset"
   ]
  },
  {
   "cell_type": "code",
   "execution_count": 6,
   "metadata": {},
   "outputs": [
    {
     "name": "stdout",
     "output_type": "stream",
     "text": [
      "Load SXS Dataset\n",
      "Importing data: SXS:BBH:0211\n",
      "Importing data: SXS:BBH:0217\n"
     ]
    }
   ],
   "source": [
    "# time range\n",
    "datasize = 1500\n",
    "dt = 10.0\n",
    "\n",
    "# Load SXS Dataset\n",
    "wave_ids = [\n",
    "    \"SXS:BBH:0211\",\n",
    "    \"SXS:BBH:0217\"\n",
    "]\n",
    "\n",
    "println(\"Load SXS Dataset\")\n",
    "dataset = load_sxs_data(wave_ids, data_path);"
   ]
  },
  {
   "cell_type": "markdown",
   "metadata": {},
   "source": [
    "## NN Model"
   ]
  },
  {
   "cell_type": "code",
   "execution_count": 7,
   "metadata": {},
   "outputs": [
    {
     "name": "stdout",
     "output_type": "stream",
     "text": [
      "Defining model\n"
     ]
    }
   ],
   "source": [
    "println(\"Defining model\")\n",
    "n_neurons = 32\n",
    "nn_output = nn_model_case2(model_name, n_neurons, tanh)\n",
    "global NN_params\n",
    "NN_params, NN_chiphi, NN_chiphi_params, NN_pe, NN_pe_params, chain_phichi, chain_pe, re_chiphi, re_pe = nn_output\n",
    "l1 = length(NN_chiphi_params);"
   ]
  },
  {
   "cell_type": "code",
   "execution_count": 8,
   "metadata": {},
   "outputs": [],
   "source": [
    "dataset = add_neural_network_problem_to_dataset(dataset, nn_output);"
   ]
  },
  {
   "cell_type": "markdown",
   "metadata": {},
   "source": [
    "Pre-training plot"
   ]
  },
  {
   "cell_type": "code",
   "execution_count": 18,
   "metadata": {},
   "outputs": [
    {
     "data": {
      "text/plain": [
       "1.000168320767"
      ]
     },
     "metadata": {},
     "output_type": "display_data"
    }
   ],
   "source": [
    "example[\"M\"]"
   ]
  },
  {
   "cell_type": "code",
   "execution_count": 9,
   "metadata": {},
   "outputs": [
    {
     "ename": "MethodError",
     "evalue": "MethodError: no method matching size(::ODEProblem{Vector{Float32}, Tuple{Float64, Float64}, false, Vector{Float32}, ODEFunction{false, SciMLBase.AutoSpecialize, var\"#ODE_model#179\"{var\"#NN_pe#59\"{Optimisers.Restructure{Chain{Tuple{var\"#20#42\", var\"#21#43\", Dense{typeof(cos), Matrix{Float32}, Vector{Float32}}, Dense{typeof(identity), Matrix{Float32}, Vector{Float32}}}}, NamedTuple{(:layers,), Tuple{Tuple{Tuple{}, Tuple{}, NamedTuple{(:weight, :bias, :σ), Tuple{Int64, Int64, Tuple{}}}, NamedTuple{(:weight, :bias, :σ), Tuple{Int64, Int64, Tuple{}}}}}}}}, var\"#NN_chiphi#58\"{Optimisers.Restructure{Chain{Tuple{var\"#18#40\", var\"#19#41\", Dense{typeof(cos), Matrix{Float32}, Vector{Float32}}, Dense{typeof(identity), Matrix{Float32}, Vector{Float32}}}}, NamedTuple{(:layers,), Tuple{Tuple{Tuple{}, Tuple{}, NamedTuple{(:weight, :bias, :σ), Tuple{Int64, Int64, Tuple{}}}, NamedTuple{(:weight, :bias, :σ), Tuple{Int64, Int64, Tuple{}}}}}}}}, Dict{String, Any}}, LinearAlgebra.UniformScaling{Bool}, Nothing, Nothing, Nothing, Nothing, Nothing, Nothing, Nothing, Nothing, Nothing, Nothing, Nothing, Nothing, Nothing, typeof(SciMLBase.DEFAULT_OBSERVED), Nothing, Nothing}, Base.Pairs{Symbol, Union{}, Tuple{}, NamedTuple{(), Tuple{}}}, SciMLBase.StandardODEProblem}, ::Int64)\nClosest candidates are:\n  size(!Matched::Union{LinearAlgebra.QR, LinearAlgebra.QRCompactWY, LinearAlgebra.QRPivoted}, ::Integer) at ~/anaconda3/envs/julia/share/julia/stdlib/v1.8/LinearAlgebra/src/qr.jl:580\n  size(!Matched::Union{LinearAlgebra.Cholesky, LinearAlgebra.CholeskyPivoted}, ::Integer) at ~/anaconda3/envs/julia/share/julia/stdlib/v1.8/LinearAlgebra/src/cholesky.jl:515\n  size(!Matched::Union{LinearAlgebra.Hermitian{T, S}, LinearAlgebra.Symmetric{T, S}} where {T, S}, ::Any) at ~/anaconda3/envs/julia/share/julia/stdlib/v1.8/LinearAlgebra/src/symmetric.jl:203\n  ...",
     "output_type": "error",
     "traceback": [
      "MethodError: no method matching size(::ODEProblem{Vector{Float32}, Tuple{Float64, Float64}, false, Vector{Float32}, ODEFunction{false, SciMLBase.AutoSpecialize, var\"#ODE_model#179\"{var\"#NN_pe#59\"{Optimisers.Restructure{Chain{Tuple{var\"#20#42\", var\"#21#43\", Dense{typeof(cos), Matrix{Float32}, Vector{Float32}}, Dense{typeof(identity), Matrix{Float32}, Vector{Float32}}}}, NamedTuple{(:layers,), Tuple{Tuple{Tuple{}, Tuple{}, NamedTuple{(:weight, :bias, :σ), Tuple{Int64, Int64, Tuple{}}}, NamedTuple{(:weight, :bias, :σ), Tuple{Int64, Int64, Tuple{}}}}}}}}, var\"#NN_chiphi#58\"{Optimisers.Restructure{Chain{Tuple{var\"#18#40\", var\"#19#41\", Dense{typeof(cos), Matrix{Float32}, Vector{Float32}}, Dense{typeof(identity), Matrix{Float32}, Vector{Float32}}}}, NamedTuple{(:layers,), Tuple{Tuple{Tuple{}, Tuple{}, NamedTuple{(:weight, :bias, :σ), Tuple{Int64, Int64, Tuple{}}}, NamedTuple{(:weight, :bias, :σ), Tuple{Int64, Int64, Tuple{}}}}}}}}, Dict{String, Any}}, LinearAlgebra.UniformScaling{Bool}, Nothing, Nothing, Nothing, Nothing, Nothing, Nothing, Nothing, Nothing, Nothing, Nothing, Nothing, Nothing, Nothing, typeof(SciMLBase.DEFAULT_OBSERVED), Nothing, Nothing}, Base.Pairs{Symbol, Union{}, Tuple{}, NamedTuple{(), Tuple{}}}, SciMLBase.StandardODEProblem}, ::Int64)\n",
      "Closest candidates are:\n",
      "  size(!Matched::Union{LinearAlgebra.QR, LinearAlgebra.QRCompactWY, LinearAlgebra.QRPivoted}, ::Integer) at ~/anaconda3/envs/julia/share/julia/stdlib/v1.8/LinearAlgebra/src/qr.jl:580\n",
      "  size(!Matched::Union{LinearAlgebra.Cholesky, LinearAlgebra.CholeskyPivoted}, ::Integer) at ~/anaconda3/envs/julia/share/julia/stdlib/v1.8/LinearAlgebra/src/cholesky.jl:515\n",
      "  size(!Matched::Union{LinearAlgebra.Hermitian{T, S}, LinearAlgebra.Symmetric{T, S}} where {T, S}, ::Any) at ~/anaconda3/envs/julia/share/julia/stdlib/v1.8/LinearAlgebra/src/symmetric.jl:203\n",
      "  ...\n",
      "\n",
      "Stacktrace:\n",
      " [1] soln2orbit(soln::ODEProblem{Vector{Float32}, Tuple{Float64, Float64}, false, Vector{Float32}, ODEFunction{false, SciMLBase.AutoSpecialize, var\"#ODE_model#179\"{var\"#NN_pe#59\"{Optimisers.Restructure{Chain{Tuple{var\"#20#42\", var\"#21#43\", Dense{typeof(cos), Matrix{Float32}, Vector{Float32}}, Dense{typeof(identity), Matrix{Float32}, Vector{Float32}}}}, NamedTuple{(:layers,), Tuple{Tuple{Tuple{}, Tuple{}, NamedTuple{(:weight, :bias, :σ), Tuple{Int64, Int64, Tuple{}}}, NamedTuple{(:weight, :bias, :σ), Tuple{Int64, Int64, Tuple{}}}}}}}}, var\"#NN_chiphi#58\"{Optimisers.Restructure{Chain{Tuple{var\"#18#40\", var\"#19#41\", Dense{typeof(cos), Matrix{Float32}, Vector{Float32}}, Dense{typeof(identity), Matrix{Float32}, Vector{Float32}}}}, NamedTuple{(:layers,), Tuple{Tuple{Tuple{}, Tuple{}, NamedTuple{(:weight, :bias, :σ), Tuple{Int64, Int64, Tuple{}}}, NamedTuple{(:weight, :bias, :σ), Tuple{Int64, Int64, Tuple{}}}}}}}}, Dict{String, Any}}, LinearAlgebra.UniformScaling{Bool}, Nothing, Nothing, Nothing, Nothing, Nothing, Nothing, Nothing, Nothing, Nothing, Nothing, Nothing, Nothing, Nothing, typeof(SciMLBase.DEFAULT_OBSERVED), Nothing, Nothing}, Base.Pairs{Symbol, Union{}, Tuple{}, NamedTuple{(), Tuple{}}}, SciMLBase.StandardODEProblem}, M::Float64, model_params::Dict{String, Float64})\n",
      "   @ Main ~/Escritorio/TFM/code/01_project/src/utils/orbital_mechanics/orbital_mechanics_utils.jl:12\n",
      " [2] compute_waveform(dt::Float64, soln::ODEProblem{Vector{Float32}, Tuple{Float64, Float64}, false, Vector{Float32}, ODEFunction{false, SciMLBase.AutoSpecialize, var\"#ODE_model#179\"{var\"#NN_pe#59\"{Optimisers.Restructure{Chain{Tuple{var\"#20#42\", var\"#21#43\", Dense{typeof(cos), Matrix{Float32}, Vector{Float32}}, Dense{typeof(identity), Matrix{Float32}, Vector{Float32}}}}, NamedTuple{(:layers,), Tuple{Tuple{Tuple{}, Tuple{}, NamedTuple{(:weight, :bias, :σ), Tuple{Int64, Int64, Tuple{}}}, NamedTuple{(:weight, :bias, :σ), Tuple{Int64, Int64, Tuple{}}}}}}}}, var\"#NN_chiphi#58\"{Optimisers.Restructure{Chain{Tuple{var\"#18#40\", var\"#19#41\", Dense{typeof(cos), Matrix{Float32}, Vector{Float32}}, Dense{typeof(identity), Matrix{Float32}, Vector{Float32}}}}, NamedTuple{(:layers,), Tuple{Tuple{Tuple{}, Tuple{}, NamedTuple{(:weight, :bias, :σ), Tuple{Int64, Int64, Tuple{}}}, NamedTuple{(:weight, :bias, :σ), Tuple{Int64, Int64, Tuple{}}}}}}}}, Dict{String, Any}}, LinearAlgebra.UniformScaling{Bool}, Nothing, Nothing, Nothing, Nothing, Nothing, Nothing, Nothing, Nothing, Nothing, Nothing, Nothing, Nothing, Nothing, typeof(SciMLBase.DEFAULT_OBSERVED), Nothing, Nothing}, Base.Pairs{Symbol, Union{}, Tuple{}, NamedTuple{(), Tuple{}}}, SciMLBase.StandardODEProblem}, mass_ratio::Float64, total_mass::Float64, model_params::Dict{String, Float64})\n",
      "   @ Main ~/Escritorio/TFM/code/01_project/src/utils/orbital_mechanics/orbital_mechanics_utils.jl:177\n",
      " [3] top-level scope\n",
      "   @ ~/Escritorio/TFM/code/01_project/src/processing/experiments/schwarzschild/case_2/schwarzschild_train.ipynb:3"
     ]
    }
   ],
   "source": [
    "example = dataset[wave_ids[1]]\n",
    "neural_network_solution = example[\"nn_problem\"]\n",
    "pred_waveform_real_train, pred_waveform_imag_train = compute_waveform(\n",
    "    example[\"dt_data\"], neural_network_solution, example[\"q\"], example[\"M\"], example[\"model_params\"]\n",
    ")\n",
    "plt1 = plot(\n",
    "    example[\"tsteps\"], example[\"true_waveform\"], \n",
    "    markershape=:none, markeralpha = 0.25, \n",
    "    linewidth = 2, alpha = 0.5, label=\"wform data (Re)\", \n",
    "    legend_position=:topleft, title= \"Train progress \"*wave_ids[1], \n",
    "    titlefontsize = 8, legend_font_pointsize = 6\n",
    ")\n",
    "plot!(\n",
    "    plt1, example[\"tsteps\"], pred_waveform_real_train, \n",
    "    markershape=:none, markeralpha = 0.25,\n",
    "    linewidth = 2, alpha = 0.5, label=\"Waveform NN (Re)\"\n",
    ")"
   ]
  },
  {
   "cell_type": "markdown",
   "metadata": {},
   "source": [
    "## callback"
   ]
  },
  {
   "cell_type": "code",
   "execution_count": 10,
   "metadata": {},
   "outputs": [],
   "source": [
    "\n",
    "train_losses = []\n",
    "train_losses_complete = []\n",
    "train_metrics = []\n",
    "train_metrics_complete = []\n",
    "test_losses = []\n",
    "test_metrics = []\n",
    "\n",
    "callback(θ, train_loss, metrics, train_results_i, train_results_i_complete, test_results_i; show_plots = show_plots, save_plots_gif=save_plots_gif) = begin\n",
    "\n",
    "    # list to save plots -> make a gif to project presentation\n",
    "    if length(train_losses) == 0\n",
    "        global plot_list = []\n",
    "    end\n",
    "\n",
    "    # unpackage training results\n",
    "    N = length(train_results_i[\"pred_waveform\"])\n",
    "\n",
    "    # add losses\n",
    "    push!(train_losses, metrics[\"train_loss\"])\n",
    "    push!(train_losses_complete, metrics[\"train_loss_complete\"])\n",
    "    push!(test_losses, metrics[\"test_loss\"])\n",
    "\n",
    "    # add metrics\n",
    "    push!(train_metrics, metrics[\"train_metric\"])\n",
    "    push!(train_metrics_complete, metrics[\"train_metric_complete\"])\n",
    "    push!(test_metrics, metrics[\"test_metric\"])\n",
    "\n",
    "    if save_data\n",
    "\n",
    "        # train waveform\n",
    "        plt1 = plot(\n",
    "            train_results_i_complete[\"tsteps\"], train_results_i_complete[\"true_waveform\"], \n",
    "            markershape=:none, label=\"wform data (Re)\", \n",
    "            legend_position=:topleft, title= \"Train progress: \" * train_results_i_complete[\"wave_id\"]\n",
    "        )\n",
    "        plot!(\n",
    "            plt1, train_results_i_complete[\"tsteps\"], train_results_i_complete[\"pred_waveform\"], \n",
    "            markershape=:none, label=\"wform NN (Re)\", legend_position=:topleft, \n",
    "            title= \"Train progress: \" * train_results_i_complete[\"wave_id\"]\n",
    "        )\n",
    "        plot!(\n",
    "            plt1, train_results_i_complete[\"tsteps\"][1:N], train_results_i_complete[\"pred_waveform\"][1:N], \n",
    "            markershape=:none, label=\"wform NN (Re)\"\n",
    "        )\n",
    "\n",
    "        # test waveform\n",
    "        plt12 = plot(\n",
    "            test_results_i[\"tsteps\"], test_results_i[\"pred_waveform\"], \n",
    "            markershape=:none, label=\"wform data (Re)\", legend=:topleft, \n",
    "            title= \"Test predictions: \" * test_results_i[\"wave_id\"]\n",
    "        )\n",
    "        plot!(\n",
    "            plt12, test_results_i[\"tsteps\"], test_results_i[\"pred_waveform\"], \n",
    "            markershape=:none, label=\"wform NN (Re)\"\n",
    "        )\n",
    "\n",
    "        # p, e train\n",
    "        p = train_results_i[\"pred_solution\"][3,:]\n",
    "        e = train_results_i[\"pred_solution\"][4,:]\n",
    "        plt3 = plot(train_results_i[\"tsteps\"], p, linewidth = 2, alpha = 0.5, label=\"p\", legend=:best, title=\"Train \" * train_results_i_complete[\"wave_id\"])\n",
    "        plot!(twinx(), train_results_i[\"tsteps\"], e, linewidth = 2, color=:red, alpha = 0.5, label=\"e\", legend=:topleft)\n",
    "\n",
    "        # p,e test\n",
    "        p = test_results_i[\"pred_solution\"][3,:]\n",
    "        e = test_results_i[\"pred_solution\"][4,:]\n",
    "        plt4 = plot(test_results_i[\"tsteps\"], p, linewidth = 2, alpha = 0.5, label=\"p\", legend=:best, title=\"Test \" * test_results_i[\"wave_id\"])\n",
    "        plot!(twinx(), test_results_i[\"tsteps\"], e, linewidth = 2, color=:red, alpha = 0.5, label=\"e\", legend=:topleft)\n",
    "\n",
    "        # losses plot\n",
    "        plt5 = plot(train_losses_complete, label=\"train\", title=\"Loss functions\", xlabel=\"Epochs\")\n",
    "        plot!(plt5, train_losses, label=\"train cost function\")\n",
    "        plot!(plt5, test_losses, label=\"test\")\n",
    "\n",
    "        # save plots\n",
    "        l = @layout [[a; b] [a; b] a{0.3w}]\n",
    "        plt = plot(plt1, plt12, plt3, plt4, plt5, layout=l, size=(2000, 900))\n",
    "        if save_plots_gif\n",
    "            push!(plot_list, plt)\n",
    "        end\n",
    "        if show_plots\n",
    "            display(plot(plt))\n",
    "        end\n",
    "    end\n",
    "\n",
    "    # Tell sciml_train to not halt the optimization. If return true, then optimization stops.\n",
    "    return false\n",
    "end;"
   ]
  },
  {
   "cell_type": "markdown",
   "metadata": {},
   "source": [
    "## Training"
   ]
  },
  {
   "cell_type": "code",
   "execution_count": 11,
   "metadata": {},
   "outputs": [],
   "source": [
    "dataset_train = Dict([key => value for (key, value) in dataset if key != wave_ids[end]]);\n",
    "dataset_test = Dict([key => value for (key, value) in dataset if key == wave_ids[end]]);"
   ]
  },
  {
   "cell_type": "code",
   "execution_count": 12,
   "metadata": {},
   "outputs": [
    {
     "name": "stdout",
     "output_type": "stream",
     "text": [
      "Begin Progressive training...\n",
      "optimization increment :: 40 of 100\n",
      "Training 10.0 epochs\n"
     ]
    },
    {
     "name": "stderr",
     "output_type": "stream",
     "text": [
      "┌ Warning: sciml_train is being deprecated in favor of direct usage of Optimization.jl. Please consult the Optimization.jl documentation for more details. Optimization.jl's PolyOpt solver is the polyalgorithm of sciml_train\n",
      "└ @ DiffEqFlux /home/rubenbalbastre/anaconda3/envs/julia/share/julia/packages/DiffEqFlux/Em1Aj/src/train.jl:6\n"
     ]
    },
    {
     "name": "stdout",
     "output_type": "stream",
     "text": [
      "optimization increment :: 50 of 100\n",
      "Training 10.0 epochs\n"
     ]
    },
    {
     "name": "stderr",
     "output_type": "stream",
     "text": [
      "┌ Warning: sciml_train is being deprecated in favor of direct usage of Optimization.jl. Please consult the Optimization.jl documentation for more details. Optimization.jl's PolyOpt solver is the polyalgorithm of sciml_train\n",
      "└ @ DiffEqFlux /home/rubenbalbastre/anaconda3/envs/julia/share/julia/packages/DiffEqFlux/Em1Aj/src/train.jl:6\n"
     ]
    },
    {
     "name": "stdout",
     "output_type": "stream",
     "text": [
      "optimization increment :: 60 of 100\n",
      "Training 10.0 epochs\n"
     ]
    },
    {
     "name": "stderr",
     "output_type": "stream",
     "text": [
      "┌ Warning: sciml_train is being deprecated in favor of direct usage of Optimization.jl. Please consult the Optimization.jl documentation for more details. Optimization.jl's PolyOpt solver is the polyalgorithm of sciml_train\n",
      "└ @ DiffEqFlux /home/rubenbalbastre/anaconda3/envs/julia/share/julia/packages/DiffEqFlux/Em1Aj/src/train.jl:6\n"
     ]
    },
    {
     "name": "stdout",
     "output_type": "stream",
     "text": [
      "optimization increment :: 70 of 100\n",
      "Training 10.0 epochs\n"
     ]
    },
    {
     "name": "stderr",
     "output_type": "stream",
     "text": [
      "┌ Warning: sciml_train is being deprecated in favor of direct usage of Optimization.jl. Please consult the Optimization.jl documentation for more details. Optimization.jl's PolyOpt solver is the polyalgorithm of sciml_train\n",
      "└ @ DiffEqFlux /home/rubenbalbastre/anaconda3/envs/julia/share/julia/packages/DiffEqFlux/Em1Aj/src/train.jl:6\n"
     ]
    },
    {
     "name": "stdout",
     "output_type": "stream",
     "text": [
      "optimization increment :: 80 of 100\n",
      "Training 10.0 epochs\n"
     ]
    },
    {
     "name": "stderr",
     "output_type": "stream",
     "text": [
      "┌ Warning: sciml_train is being deprecated in favor of direct usage of Optimization.jl. Please consult the Optimization.jl documentation for more details. Optimization.jl's PolyOpt solver is the polyalgorithm of sciml_train\n",
      "└ @ DiffEqFlux /home/rubenbalbastre/anaconda3/envs/julia/share/julia/packages/DiffEqFlux/Em1Aj/src/train.jl:6\n"
     ]
    },
    {
     "name": "stdout",
     "output_type": "stream",
     "text": [
      "optimization increment :: 85 of 100\n",
      "Training 10.0 epochs\n"
     ]
    },
    {
     "name": "stderr",
     "output_type": "stream",
     "text": [
      "┌ Warning: sciml_train is being deprecated in favor of direct usage of Optimization.jl. Please consult the Optimization.jl documentation for more details. Optimization.jl's PolyOpt solver is the polyalgorithm of sciml_train\n",
      "└ @ DiffEqFlux /home/rubenbalbastre/anaconda3/envs/julia/share/julia/packages/DiffEqFlux/Em1Aj/src/train.jl:6\n"
     ]
    },
    {
     "name": "stdout",
     "output_type": "stream",
     "text": [
      "optimization increment :: 90 of 100\n",
      "Training 10.0 epochs\n"
     ]
    },
    {
     "name": "stderr",
     "output_type": "stream",
     "text": [
      "┌ Warning: sciml_train is being deprecated in favor of direct usage of Optimization.jl. Please consult the Optimization.jl documentation for more details. Optimization.jl's PolyOpt solver is the polyalgorithm of sciml_train\n",
      "└ @ DiffEqFlux /home/rubenbalbastre/anaconda3/envs/julia/share/julia/packages/DiffEqFlux/Em1Aj/src/train.jl:6\n"
     ]
    },
    {
     "name": "stdout",
     "output_type": "stream",
     "text": [
      "optimization increment :: 95 of 100\n",
      "Training 10.0 epochs\n"
     ]
    },
    {
     "name": "stderr",
     "output_type": "stream",
     "text": [
      "┌ Warning: sciml_train is being deprecated in favor of direct usage of Optimization.jl. Please consult the Optimization.jl documentation for more details. Optimization.jl's PolyOpt solver is the polyalgorithm of sciml_train\n",
      "└ @ DiffEqFlux /home/rubenbalbastre/anaconda3/envs/julia/share/julia/packages/DiffEqFlux/Em1Aj/src/train.jl:6\n"
     ]
    },
    {
     "name": "stdout",
     "output_type": "stream",
     "text": [
      "optimization increment :: 99 of 100\n",
      "Training 10.0 epochs\n"
     ]
    },
    {
     "name": "stderr",
     "output_type": "stream",
     "text": [
      "┌ Warning: sciml_train is being deprecated in favor of direct usage of Optimization.jl. Please consult the Optimization.jl documentation for more details. Optimization.jl's PolyOpt solver is the polyalgorithm of sciml_train\n",
      "└ @ DiffEqFlux /home/rubenbalbastre/anaconda3/envs/julia/share/julia/packages/DiffEqFlux/Em1Aj/src/train.jl:6\n"
     ]
    },
    {
     "name": "stdout",
     "output_type": "stream",
     "text": [
      "optimization increment :: 100 of 100\n",
      "Training 15.0 epochs\n"
     ]
    },
    {
     "name": "stderr",
     "output_type": "stream",
     "text": [
      "┌ Warning: sciml_train is being deprecated in favor of direct usage of Optimization.jl. Please consult the Optimization.jl documentation for more details. Optimization.jl's PolyOpt solver is the polyalgorithm of sciml_train\n",
      "└ @ DiffEqFlux /home/rubenbalbastre/anaconda3/envs/julia/share/julia/packages/DiffEqFlux/Em1Aj/src/train.jl:6\n"
     ]
    },
    {
     "name": "stdout",
     "output_type": "stream",
     "text": [
      "Finished training\n"
     ]
    }
   ],
   "source": [
    "println(\"Begin Progressive training...\")\n",
    "\n",
    "num_optimization_increments = 100\n",
    "optimization_increments = [collect(40:10:num_optimization_increments-15)..., 85, 90, num_optimization_increments-5, num_optimization_increments-1,  num_optimization_increments]\n",
    "n = length(optimization_increments)\n",
    "epochs_increments = [100,100,100,100,100,100,100,100,100,150] / 10\n",
    "\n",
    "@assert length(epochs_increments) == length(optimization_increments)\n",
    "\n",
    "for (index, i) in enumerate(optimization_increments)\n",
    "\n",
    "    println(\"optimization increment :: \", i, \" of \", num_optimization_increments)\n",
    "    dataset[wave_ids[1]][\"tsteps\"]\n",
    "    tsteps_increment_bool = dataset[wave_ids[1]][\"tsteps\"] .<= dataset[wave_ids[1]][\"tspan\"][1] + i*(dataset[wave_ids[1]][\"tspan\"][2]-dataset[wave_ids[1]][\"tspan\"][1]) / num_optimization_increments\n",
    "    max_epochs = round(epochs_increments[index])\n",
    "    \n",
    "    println(\"Training \", max_epochs, \" epochs\")\n",
    "\n",
    "    tmp_loss(p) = loss_function_case2(\n",
    "        p, \n",
    "        tsteps_increment_bool=tsteps_increment_bool, \n",
    "        dataset_train=dataset_train, \n",
    "        dataset_test=dataset_test\n",
    "    )\n",
    "\n",
    "    # to learning rates / optimization algorithm to learn at different 'stages'\n",
    "    if index < n-3\n",
    "        # introduce randomness to avoid local minimum (not critical)\n",
    "        global NN_params = NN_params + Float64(1e-6)*randn(eltype(NN_params), size(NN_params)) #1e-7\n",
    "        local res = sciml_train(\n",
    "            tmp_loss, \n",
    "            NN_params,  \n",
    "            BFGS(initial_stepnorm=1e-1, linesearch = BackTracking()), \n",
    "            cb=callback, \n",
    "            maxiters = max_epochs, \n",
    "            allow_f_increases=true\n",
    "        )\n",
    "    else\n",
    "        # introduce randomness to avoid local minimum (not critical)\n",
    "        global NN_params = NN_params + Float64(1e-6)*randn(eltype(NN_params), size(NN_params))\n",
    "        local res = sciml_train(\n",
    "            tmp_loss,\n",
    "            NN_params, \n",
    "            BFGS(initial_stepnorm=2.5e-2, linesearch = BackTracking()), \n",
    "            cb=callback, \n",
    "            maxiters = max_epochs, \n",
    "            allow_f_increases=true\n",
    "        )\n",
    "    end\n",
    "    \n",
    "    global NN_params = res.minimizer\n",
    "end\n",
    "println(\"Finished training\")\n"
   ]
  },
  {
   "cell_type": "markdown",
   "metadata": {},
   "source": [
    "## Metrics"
   ]
  },
  {
   "cell_type": "code",
   "execution_count": 13,
   "metadata": {},
   "outputs": [
    {
     "data": {
      "text/html": [
       "<div><div style = \"float: left;\"><span>104×6 DataFrame</span></div><div style = \"float: right;\"><span style = \"font-style: italic;\">79 rows omitted</span></div><div style = \"clear: both;\"></div></div><div class = \"data-frame\" style = \"overflow-x: scroll;\"><table class = \"data-frame\" style = \"margin-bottom: 6px;\"><thead><tr class = \"header\"><th class = \"rowNumber\" style = \"font-weight: bold; text-align: right;\">Row</th><th style = \"text-align: left;\">epochs</th><th style = \"text-align: left;\">test_name</th><th style = \"text-align: left;\">train_losses</th><th style = \"text-align: left;\">test_losses</th><th style = \"text-align: left;\">train_metric</th><th style = \"text-align: left;\">test_metric</th></tr><tr class = \"subheader headerLastRow\"><th class = \"rowNumber\" style = \"font-weight: bold; text-align: right;\"></th><th title = \"Int64\" style = \"text-align: left;\">Int64</th><th title = \"String\" style = \"text-align: left;\">String</th><th title = \"Float64\" style = \"text-align: left;\">Float64</th><th title = \"Float64\" style = \"text-align: left;\">Float64</th><th title = \"Float64\" style = \"text-align: left;\">Float64</th><th title = \"Float64\" style = \"text-align: left;\">Float64</th></tr></thead><tbody><tr><td class = \"rowNumber\" style = \"font-weight: bold; text-align: right;\">1</td><td style = \"text-align: right;\">1</td><td style = \"text-align: left;\">test_1_cos/</td><td style = \"text-align: right;\">0.000113628</td><td style = \"text-align: right;\">0.000133126</td><td style = \"text-align: right;\">0.132992</td><td style = \"text-align: right;\">0.143626</td></tr><tr><td class = \"rowNumber\" style = \"font-weight: bold; text-align: right;\">2</td><td style = \"text-align: right;\">2</td><td style = \"text-align: left;\">test_1_cos/</td><td style = \"text-align: right;\">0.000105132</td><td style = \"text-align: right;\">0.000123644</td><td style = \"text-align: right;\">0.133046</td><td style = \"text-align: right;\">0.14365</td></tr><tr><td class = \"rowNumber\" style = \"font-weight: bold; text-align: right;\">3</td><td style = \"text-align: right;\">3</td><td style = \"text-align: left;\">test_1_cos/</td><td style = \"text-align: right;\">9.28894e-5</td><td style = \"text-align: right;\">0.000119383</td><td style = \"text-align: right;\">0.126212</td><td style = \"text-align: right;\">0.143093</td></tr><tr><td class = \"rowNumber\" style = \"font-weight: bold; text-align: right;\">4</td><td style = \"text-align: right;\">4</td><td style = \"text-align: left;\">test_1_cos/</td><td style = \"text-align: right;\">9.76009e-5</td><td style = \"text-align: right;\">0.000118613</td><td style = \"text-align: right;\">0.132673</td><td style = \"text-align: right;\">0.145484</td></tr><tr><td class = \"rowNumber\" style = \"font-weight: bold; text-align: right;\">5</td><td style = \"text-align: right;\">5</td><td style = \"text-align: left;\">test_1_cos/</td><td style = \"text-align: right;\">9.52285e-5</td><td style = \"text-align: right;\">0.000119065</td><td style = \"text-align: right;\">0.131691</td><td style = \"text-align: right;\">0.146452</td></tr><tr><td class = \"rowNumber\" style = \"font-weight: bold; text-align: right;\">6</td><td style = \"text-align: right;\">6</td><td style = \"text-align: left;\">test_1_cos/</td><td style = \"text-align: right;\">8.97089e-5</td><td style = \"text-align: right;\">0.00011752</td><td style = \"text-align: right;\">0.128105</td><td style = \"text-align: right;\">0.145575</td></tr><tr><td class = \"rowNumber\" style = \"font-weight: bold; text-align: right;\">7</td><td style = \"text-align: right;\">7</td><td style = \"text-align: left;\">test_1_cos/</td><td style = \"text-align: right;\">9.17548e-5</td><td style = \"text-align: right;\">0.000119156</td><td style = \"text-align: right;\">0.129884</td><td style = \"text-align: right;\">0.146653</td></tr><tr><td class = \"rowNumber\" style = \"font-weight: bold; text-align: right;\">8</td><td style = \"text-align: right;\">8</td><td style = \"text-align: left;\">test_1_cos/</td><td style = \"text-align: right;\">9.29975e-5</td><td style = \"text-align: right;\">0.000123652</td><td style = \"text-align: right;\">0.129207</td><td style = \"text-align: right;\">0.147494</td></tr><tr><td class = \"rowNumber\" style = \"font-weight: bold; text-align: right;\">9</td><td style = \"text-align: right;\">9</td><td style = \"text-align: left;\">test_1_cos/</td><td style = \"text-align: right;\">5.51312e-5</td><td style = \"text-align: right;\">0.000108383</td><td style = \"text-align: right;\">0.0937773</td><td style = \"text-align: right;\">0.120647</td></tr><tr><td class = \"rowNumber\" style = \"font-weight: bold; text-align: right;\">10</td><td style = \"text-align: right;\">10</td><td style = \"text-align: left;\">test_1_cos/</td><td style = \"text-align: right;\">0.00010383</td><td style = \"text-align: right;\">0.00010917</td><td style = \"text-align: right;\">0.15328</td><td style = \"text-align: right;\">0.138736</td></tr><tr><td class = \"rowNumber\" style = \"font-weight: bold; text-align: right;\">11</td><td style = \"text-align: right;\">11</td><td style = \"text-align: left;\">test_1_cos/</td><td style = \"text-align: right;\">5.18473e-5</td><td style = \"text-align: right;\">7.57335e-5</td><td style = \"text-align: right;\">0.0892318</td><td style = \"text-align: right;\">0.101084</td></tr><tr><td class = \"rowNumber\" style = \"font-weight: bold; text-align: right;\">12</td><td style = \"text-align: right;\">12</td><td style = \"text-align: left;\">test_1_cos/</td><td style = \"text-align: right;\">7.48024e-5</td><td style = \"text-align: right;\">0.000100869</td><td style = \"text-align: right;\">0.0899646</td><td style = \"text-align: right;\">0.101226</td></tr><tr><td class = \"rowNumber\" style = \"font-weight: bold; text-align: right;\">13</td><td style = \"text-align: right;\">13</td><td style = \"text-align: left;\">test_1_cos/</td><td style = \"text-align: right;\">6.34538e-5</td><td style = \"text-align: right;\">8.82418e-5</td><td style = \"text-align: right;\">0.089897</td><td style = \"text-align: right;\">0.101252</td></tr><tr><td style = \"text-align: right;\">&vellip;</td><td style = \"text-align: right;\">&vellip;</td><td style = \"text-align: right;\">&vellip;</td><td style = \"text-align: right;\">&vellip;</td><td style = \"text-align: right;\">&vellip;</td><td style = \"text-align: right;\">&vellip;</td><td style = \"text-align: right;\">&vellip;</td></tr><tr><td class = \"rowNumber\" style = \"font-weight: bold; text-align: right;\">93</td><td style = \"text-align: right;\">93</td><td style = \"text-align: left;\">test_1_cos/</td><td style = \"text-align: right;\">3.99936e-5</td><td style = \"text-align: right;\">7.92812e-5</td><td style = \"text-align: right;\">0.0863886</td><td style = \"text-align: right;\">0.109537</td></tr><tr><td class = \"rowNumber\" style = \"font-weight: bold; text-align: right;\">94</td><td style = \"text-align: right;\">94</td><td style = \"text-align: left;\">test_1_cos/</td><td style = \"text-align: right;\">3.99942e-5</td><td style = \"text-align: right;\">7.95975e-5</td><td style = \"text-align: right;\">0.0864409</td><td style = \"text-align: right;\">0.109725</td></tr><tr><td class = \"rowNumber\" style = \"font-weight: bold; text-align: right;\">95</td><td style = \"text-align: right;\">95</td><td style = \"text-align: left;\">test_1_cos/</td><td style = \"text-align: right;\">3.99942e-5</td><td style = \"text-align: right;\">7.95975e-5</td><td style = \"text-align: right;\">0.0864409</td><td style = \"text-align: right;\">0.109725</td></tr><tr><td class = \"rowNumber\" style = \"font-weight: bold; text-align: right;\">96</td><td style = \"text-align: right;\">96</td><td style = \"text-align: left;\">test_1_cos/</td><td style = \"text-align: right;\">3.99942e-5</td><td style = \"text-align: right;\">7.95975e-5</td><td style = \"text-align: right;\">0.0864409</td><td style = \"text-align: right;\">0.109725</td></tr><tr><td class = \"rowNumber\" style = \"font-weight: bold; text-align: right;\">97</td><td style = \"text-align: right;\">97</td><td style = \"text-align: left;\">test_1_cos/</td><td style = \"text-align: right;\">4.08852e-5</td><td style = \"text-align: right;\">8.03218e-5</td><td style = \"text-align: right;\">0.0863011</td><td style = \"text-align: right;\">0.109578</td></tr><tr><td class = \"rowNumber\" style = \"font-weight: bold; text-align: right;\">98</td><td style = \"text-align: right;\">98</td><td style = \"text-align: left;\">test_1_cos/</td><td style = \"text-align: right;\">4.0343e-5</td><td style = \"text-align: right;\">7.9713e-5</td><td style = \"text-align: right;\">0.0863168</td><td style = \"text-align: right;\">0.10957</td></tr><tr><td class = \"rowNumber\" style = \"font-weight: bold; text-align: right;\">99</td><td style = \"text-align: right;\">99</td><td style = \"text-align: left;\">test_1_cos/</td><td style = \"text-align: right;\">4.03425e-5</td><td style = \"text-align: right;\">7.98672e-5</td><td style = \"text-align: right;\">0.0863679</td><td style = \"text-align: right;\">0.109664</td></tr><tr><td class = \"rowNumber\" style = \"font-weight: bold; text-align: right;\">100</td><td style = \"text-align: right;\">100</td><td style = \"text-align: left;\">test_1_cos/</td><td style = \"text-align: right;\">4.0057e-5</td><td style = \"text-align: right;\">7.94152e-5</td><td style = \"text-align: right;\">0.0863372</td><td style = \"text-align: right;\">0.109578</td></tr><tr><td class = \"rowNumber\" style = \"font-weight: bold; text-align: right;\">101</td><td style = \"text-align: right;\">101</td><td style = \"text-align: left;\">test_1_cos/</td><td style = \"text-align: right;\">3.99917e-5</td><td style = \"text-align: right;\">7.90992e-5</td><td style = \"text-align: right;\">0.0863129</td><td style = \"text-align: right;\">0.109429</td></tr><tr><td class = \"rowNumber\" style = \"font-weight: bold; text-align: right;\">102</td><td style = \"text-align: right;\">102</td><td style = \"text-align: left;\">test_1_cos/</td><td style = \"text-align: right;\">3.99917e-5</td><td style = \"text-align: right;\">7.90992e-5</td><td style = \"text-align: right;\">0.086313</td><td style = \"text-align: right;\">0.109429</td></tr><tr><td class = \"rowNumber\" style = \"font-weight: bold; text-align: right;\">103</td><td style = \"text-align: right;\">103</td><td style = \"text-align: left;\">test_1_cos/</td><td style = \"text-align: right;\">3.99917e-5</td><td style = \"text-align: right;\">7.90992e-5</td><td style = \"text-align: right;\">0.086313</td><td style = \"text-align: right;\">0.109429</td></tr><tr><td class = \"rowNumber\" style = \"font-weight: bold; text-align: right;\">104</td><td style = \"text-align: right;\">104</td><td style = \"text-align: left;\">test_1_cos/</td><td style = \"text-align: right;\">3.99917e-5</td><td style = \"text-align: right;\">7.90992e-5</td><td style = \"text-align: right;\">0.086313</td><td style = \"text-align: right;\">0.109429</td></tr></tbody></table></div>"
      ],
      "text/latex": [
       "\\begin{tabular}{r|cccccc}\n",
       "\t& epochs & test\\_name & train\\_losses & test\\_losses & train\\_metric & test\\_metric\\\\\n",
       "\t\\hline\n",
       "\t& Int64 & String & Float64 & Float64 & Float64 & Float64\\\\\n",
       "\t\\hline\n",
       "\t1 & 1 & test\\_1\\_cos/ & 0.000113628 & 0.000133126 & 0.132992 & 0.143626 \\\\\n",
       "\t2 & 2 & test\\_1\\_cos/ & 0.000105132 & 0.000123644 & 0.133046 & 0.14365 \\\\\n",
       "\t3 & 3 & test\\_1\\_cos/ & 9.28894e-5 & 0.000119383 & 0.126212 & 0.143093 \\\\\n",
       "\t4 & 4 & test\\_1\\_cos/ & 9.76009e-5 & 0.000118613 & 0.132673 & 0.145484 \\\\\n",
       "\t5 & 5 & test\\_1\\_cos/ & 9.52285e-5 & 0.000119065 & 0.131691 & 0.146452 \\\\\n",
       "\t6 & 6 & test\\_1\\_cos/ & 8.97089e-5 & 0.00011752 & 0.128105 & 0.145575 \\\\\n",
       "\t7 & 7 & test\\_1\\_cos/ & 9.17548e-5 & 0.000119156 & 0.129884 & 0.146653 \\\\\n",
       "\t8 & 8 & test\\_1\\_cos/ & 9.29975e-5 & 0.000123652 & 0.129207 & 0.147494 \\\\\n",
       "\t9 & 9 & test\\_1\\_cos/ & 5.51312e-5 & 0.000108383 & 0.0937773 & 0.120647 \\\\\n",
       "\t10 & 10 & test\\_1\\_cos/ & 0.00010383 & 0.00010917 & 0.15328 & 0.138736 \\\\\n",
       "\t11 & 11 & test\\_1\\_cos/ & 5.18473e-5 & 7.57335e-5 & 0.0892318 & 0.101084 \\\\\n",
       "\t12 & 12 & test\\_1\\_cos/ & 7.48024e-5 & 0.000100869 & 0.0899646 & 0.101226 \\\\\n",
       "\t13 & 13 & test\\_1\\_cos/ & 6.34538e-5 & 8.82418e-5 & 0.089897 & 0.101252 \\\\\n",
       "\t14 & 14 & test\\_1\\_cos/ & 5.57196e-5 & 8.48043e-5 & 0.0849597 & 0.100839 \\\\\n",
       "\t15 & 15 & test\\_1\\_cos/ & 4.04336e-5 & 7.75434e-5 & 0.0872363 & 0.108271 \\\\\n",
       "\t16 & 16 & test\\_1\\_cos/ & 4.69828e-5 & 7.7036e-5 & 0.0852202 & 0.101843 \\\\\n",
       "\t17 & 17 & test\\_1\\_cos/ & 4.35447e-5 & 7.13922e-5 & 0.0852188 & 0.101397 \\\\\n",
       "\t18 & 18 & test\\_1\\_cos/ & 4.10701e-5 & 7.37015e-5 & 0.0863835 & 0.105635 \\\\\n",
       "\t19 & 19 & test\\_1\\_cos/ & 4.10545e-5 & 7.4108e-5 & 0.0867124 & 0.10606 \\\\\n",
       "\t20 & 20 & test\\_1\\_cos/ & 4.14082e-5 & 8.16003e-5 & 0.0898313 & 0.110368 \\\\\n",
       "\t21 & 21 & test\\_1\\_cos/ & 4.24958e-5 & 8.76975e-5 & 0.0923344 & 0.114476 \\\\\n",
       "\t22 & 22 & test\\_1\\_cos/ & 4.26849e-5 & 8.91821e-5 & 0.092852 & 0.115573 \\\\\n",
       "\t23 & 23 & test\\_1\\_cos/ & 0.000277296 & 0.000359977 & 0.0929882 & 0.116165 \\\\\n",
       "\t24 & 24 & test\\_1\\_cos/ & 8.30415e-5 & 0.000134435 & 0.0930757 & 0.115879 \\\\\n",
       "\t$\\dots$ & $\\dots$ & $\\dots$ & $\\dots$ & $\\dots$ & $\\dots$ & $\\dots$ \\\\\n",
       "\\end{tabular}\n"
      ],
      "text/plain": [
       "\u001b[1m104×6 DataFrame\u001b[0m\n",
       "\u001b[1m Row \u001b[0m│\u001b[1m epochs \u001b[0m\u001b[1m test_name   \u001b[0m\u001b[1m train_losses \u001b[0m\u001b[1m test_losses \u001b[0m\u001b[1m train_metric \u001b[0m\u001b[1m test_metr\u001b[0m ⋯\n",
       "     │\u001b[90m Int64  \u001b[0m\u001b[90m String      \u001b[0m\u001b[90m Float64      \u001b[0m\u001b[90m Float64     \u001b[0m\u001b[90m Float64      \u001b[0m\u001b[90m Float64  \u001b[0m ⋯\n",
       "─────┼──────────────────────────────────────────────────────────────────────────\n",
       "   1 │      1  test_1_cos/   0.000113628  0.000133126     0.132992      0.1436 ⋯\n",
       "   2 │      2  test_1_cos/   0.000105132  0.000123644     0.133046      0.1436\n",
       "   3 │      3  test_1_cos/   9.28894e-5   0.000119383     0.126212      0.1430\n",
       "   4 │      4  test_1_cos/   9.76009e-5   0.000118613     0.132673      0.1454\n",
       "   5 │      5  test_1_cos/   9.52285e-5   0.000119065     0.131691      0.1464 ⋯\n",
       "   6 │      6  test_1_cos/   8.97089e-5   0.00011752      0.128105      0.1455\n",
       "   7 │      7  test_1_cos/   9.17548e-5   0.000119156     0.129884      0.1466\n",
       "   8 │      8  test_1_cos/   9.29975e-5   0.000123652     0.129207      0.1474\n",
       "  ⋮  │   ⋮          ⋮            ⋮             ⋮            ⋮             ⋮    ⋱\n",
       "  98 │     98  test_1_cos/   4.0343e-5    7.9713e-5       0.0863168     0.1095 ⋯\n",
       "  99 │     99  test_1_cos/   4.03425e-5   7.98672e-5      0.0863679     0.1096\n",
       " 100 │    100  test_1_cos/   4.0057e-5    7.94152e-5      0.0863372     0.1095\n",
       " 101 │    101  test_1_cos/   3.99917e-5   7.90992e-5      0.0863129     0.1094\n",
       " 102 │    102  test_1_cos/   3.99917e-5   7.90992e-5      0.086313      0.1094 ⋯\n",
       " 103 │    103  test_1_cos/   3.99917e-5   7.90992e-5      0.086313      0.1094\n",
       " 104 │    104  test_1_cos/   3.99917e-5   7.90992e-5      0.086313      0.1094\n",
       "\u001b[36m                                                    1 column and 89 rows omitted\u001b[0m"
      ]
     },
     "metadata": {},
     "output_type": "display_data"
    }
   ],
   "source": [
    "niter = range(1, length(train_losses))\n",
    "df_losses = DataFrame(\n",
    "    epochs=niter, \n",
    "    test_name=test_name, \n",
    "    train_losses = Float64.(train_losses_complete),\n",
    "    test_losses = Float64.(test_losses), \n",
    "    train_metric = Float64.(train_metrics_complete), \n",
    "    test_metric = Float64.(test_metrics)\n",
    ")"
   ]
  },
  {
   "cell_type": "code",
   "execution_count": 14,
   "metadata": {},
   "outputs": [
    {
     "ename": "ErrorException",
     "evalue": "invalid redefinition of constant losses_plot",
     "output_type": "error",
     "traceback": [
      "invalid redefinition of constant losses_plot\n",
      "\n",
      "Stacktrace:\n",
      " [1] top-level scope\n",
      "   @ ~/Escritorio/TFM/code/01_project/src/processing/experiments/schwarzschild/case_2/schwarzschild_train.ipynb:1"
     ]
    }
   ],
   "source": [
    "losses_plot = plot(df_losses[!, \"epochs\"], df_losses[!, \"train_losses\"], label=\"train\")\n",
    "plot!(losses_plot, df_losses[!, \"epochs\"], df_losses[!, \"test_losses\"], label=\"test\")"
   ]
  },
  {
   "cell_type": "code",
   "execution_count": 15,
   "metadata": {},
   "outputs": [
    {
     "ename": "BoundsError",
     "evalue": "BoundsError: attempt to access 0-element Vector{Any} at index [0]",
     "output_type": "error",
     "traceback": [
      "BoundsError: attempt to access 0-element Vector{Any} at index [0]\n",
      "\n",
      "Stacktrace:\n",
      " [1] getindex(A::Vector{Any}, i1::Int64)\n",
      "   @ Base ./array.jl:924\n",
      " [2] top-level scope\n",
      "   @ ~/Escritorio/TFM/code/01_project/src/processing/experiments/schwarzschild/case_2/schwarzschild_train.ipynb:1"
     ]
    }
   ],
   "source": [
    "plot(plot_list[end])"
   ]
  },
  {
   "cell_type": "code",
   "execution_count": 16,
   "metadata": {},
   "outputs": [
    {
     "name": "stdout",
     "output_type": "stream",
     "text": [
      "Saving data\n"
     ]
    }
   ],
   "source": [
    "if save_data\n",
    "\n",
    "    println(\"Saving data\")\n",
    "\n",
    "    # naming dirs\n",
    "    solutions_dir = output_dir*\"solutions/\"\n",
    "    img_dir = output_dir*\"train_img_for_gif/\"\n",
    "    metrics_dir = output_directory*\"metrics/\"\n",
    "\n",
    "    # checking if directories exist\n",
    "    create_directory_if_does_not_exist(output_dir)\n",
    "    create_directory_if_does_not_exist(solutions_dir)\n",
    "    create_directory_if_does_not_exist(img_dir)\n",
    "    create_directory_if_does_not_exist(metrics_dir)\n",
    "\n",
    "    # save plots\n",
    "    if save_plots_gif\n",
    "        for (ind, img) in enumerate(plot_list)\n",
    "            savefig(img, img_dir*string(ind)*\"_train_img.png\")\n",
    "        end\n",
    "    end\n",
    "\n",
    "    # save final plot\n",
    "    if show_plots\n",
    "        savefig(plot_list[end], output_dir*\"prediction_plot.png\")\n",
    "    end\n",
    "\n",
    "    if ! isfile(metrics_dir*\"losses.csv\")\n",
    "        CSV.write(metrics_dir*\"losses.csv\", df_losses)\n",
    "    else\n",
    "        x = DataFrame(CSV.File(metrics_dir*\"losses.csv\", types=Dict(\"test_name\" => String)))\n",
    "        append!(x, df_losses)\n",
    "        CSV.write(metrics_dir*\"losses.csv\", x)\n",
    "    end\n",
    "end;\n"
   ]
  },
  {
   "cell_type": "markdown",
   "metadata": {},
   "source": [
    "## Save model"
   ]
  },
  {
   "cell_type": "code",
   "execution_count": 17,
   "metadata": {},
   "outputs": [],
   "source": [
    "# https://github.com/JuliaIO/BSON.jl \n",
    "# https://stackoverflow.com/questions/66395998/saving-and-loading-model-and-the-best-weight-after-training-in-sciml-julia\n",
    "# save flux chain models as bson files. To do so, we must save chain model with its parameters\n",
    "NN_chiphi_params = NN_params[1:l1]\n",
    "NN_pe_params = NN_params[l1+1:end]\n",
    "Flux.loadparams!(chain_pe, Flux.params(re_pe(NN_pe_params)))\n",
    "Flux.loadparams!(chain_phichi, Flux.params(re_chiphi(NN_chiphi_params)))\n",
    "@save solutions_dir*\"model_chiphi.bson\" chain_phichi\n",
    "@save solutions_dir*\"model_pe.bson\" chain_pe"
   ]
  }
 ],
 "metadata": {
  "kernelspec": {
   "display_name": "Julia 1.8.2",
   "language": "julia",
   "name": "julia-1.8"
  },
  "language_info": {
   "file_extension": ".jl",
   "mimetype": "application/julia",
   "name": "julia",
   "version": "1.8.2"
  }
 },
 "nbformat": 4,
 "nbformat_minor": 2
}
