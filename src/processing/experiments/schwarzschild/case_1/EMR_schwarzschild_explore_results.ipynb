{
 "cells": [
  {
   "cell_type": "markdown",
   "metadata": {},
   "source": [
    "# Explore Results EMR Kerr"
   ]
  },
  {
   "cell_type": "markdown",
   "metadata": {},
   "source": [
    "## Import utils"
   ]
  },
  {
   "cell_type": "code",
   "execution_count": 1,
   "metadata": {},
   "outputs": [],
   "source": [
    "project_path = \"../../../../../\"\n",
    "utils_path = project_path * \"src/utils/\"\n",
    "\n",
    "data_path = project_path * \"data/input/case_1/\";\n",
    "output_directory = project_path * \"data/output/case_1/schwarzschild/\";"
   ]
  },
  {
   "cell_type": "code",
   "execution_count": 2,
   "metadata": {},
   "outputs": [
    {
     "name": "stderr",
     "output_type": "stream",
     "text": [
      "\u001b[32m\u001b[1m  Activating\u001b[22m\u001b[39m project at `~/Escritorio/TFM/code/01_project`\n"
     ]
    }
   ],
   "source": [
    "\n",
    "cd(@__DIR__)\n",
    "using Pkg; Pkg.activate(project_path); \n",
    "Pkg.instantiate();\n",
    "using OrdinaryDiffEq;\n",
    "using Optim;\n",
    "using LineSearches;\n",
    "using DiffEqFlux;\n",
    "using DiffEqSensitivity;\n",
    "using Plots;\n",
    "using DataFrames;\n",
    "using CSV;\n",
    "using Statistics;\n",
    "using Flux;\n",
    "using Random;\n",
    "using DelimitedFiles;\n",
    "import BSON: @save, @load\n",
    "# gr(); # specify backend for plotting\n",
    "\n",
    "include(utils_path * \"utils.jl\")\n",
    "import_project_utils(utils_path);"
   ]
  },
  {
   "cell_type": "markdown",
   "metadata": {},
   "source": [
    "## Data paths"
   ]
  },
  {
   "cell_type": "code",
   "execution_count": 3,
   "metadata": {},
   "outputs": [],
   "source": [
    "# specify random seed\n",
    "seed = 1234;\n",
    "Random.seed!(seed)\n",
    "\n",
    "# script conditions\n",
    "show_plots = true\n",
    "save_data = true\n",
    "\n",
    "# paths\n",
    "test_name = \"test_1_cos/\"\n",
    "\n",
    "output_dir = output_directory* \"models/\" * test_name\n",
    "predictions_dir = output_dir * \"predictions/\"\n",
    "solutions_dir = output_dir * \"solutions/\"\n",
    "metrics_dir = output_directory * \"metrics/\"\n",
    "img_dir = output_dir * \"train_img_for_gif/\";\n",
    "\n",
    "list_directories = (predictions_dir)\n",
    "create_directories(list_directories)"
   ]
  },
  {
   "cell_type": "markdown",
   "metadata": {},
   "source": [
    "## Load Model"
   ]
  },
  {
   "cell_type": "code",
   "execution_count": 4,
   "metadata": {},
   "outputs": [
    {
     "ename": "UndefVarError",
     "evalue": "UndefVarError: solutions_dir not defined",
     "output_type": "error",
     "traceback": [
      "UndefVarError: solutions_dir not defined\n",
      "\n",
      "Stacktrace:\n",
      " [1] top-level scope\n",
      "   @ ~/anaconda3/envs/julia/share/julia/packages/BSON/DOYqe/src/BSON.jl:50"
     ]
    }
   ],
   "source": [
    "\n",
    "# Define the experimental parameters\n",
    "global datasize = 250\n",
    "global mass_ratio = 0.0\n",
    "global dt = 100.0\n",
    "\n",
    "\n",
    "## Define neural network model\n",
    "_, _, chain, _ = nn_model_case1(test_name)\n",
    "\n",
    "# load saved models\n",
    "@load solutions_dir*\"model_chiphi.bson\" chain\n",
    "\n",
    "# restructure chains\n",
    "NN_params, re = Flux.destructure(chain)\n",
    "NN(u, NN_params) = re(NN_params)(u);"
   ]
  },
  {
   "cell_type": "markdown",
   "metadata": {},
   "source": [
    "## Dataset\n",
    "\n",
    "Note that here you create a new dataset for train/test purpose. It might seem a bad practice but the idea was to enable to select only what is needed for train/test. This could be easily changed and datasets for train/test process written and read in this notebook"
   ]
  },
  {
   "cell_type": "code",
   "execution_count": 5,
   "metadata": {},
   "outputs": [
    {
     "name": "stdout",
     "output_type": "stream",
     "text": [
      "Train dataset creation\n"
     ]
    },
    {
     "ename": "UndefVarError",
     "evalue": "UndefVarError: NN_params not defined",
     "output_type": "error",
     "traceback": [
      "UndefVarError: NN_params not defined\n",
      "\n",
      "Stacktrace:\n",
      " [1] get_problem_information_EMR_schwarzschild(χ₀::Float64, ϕ₀::Float64, p::Float64, M::Float64, e::Float64, mass_ratio::Float64, tspan::Tuple{Float64, Float32}, datasize::Int64, dt::Float64; factor::Int64)\n",
      "   @ Main ~/Escritorio/TFM/code/01_project/src/utils/create_datasets/create_EMR_datasets.jl:20\n",
      " [2] get_problem_information_EMR_schwarzschild(χ₀::Float64, ϕ₀::Float64, p::Float64, M::Float64, e::Float64, mass_ratio::Float64, tspan::Tuple{Float64, Float32}, datasize::Int64, dt::Float64)\n",
      "   @ Main ~/Escritorio/TFM/code/01_project/src/utils/create_datasets/create_EMR_datasets.jl:3\n",
      " [3] top-level scope\n",
      "   @ ~/Escritorio/TFM/code/01_project/src/processing/experiments/schwarzschild/case_1/EMR_schwarzschild_explore_results.ipynb:16"
     ]
    }
   ],
   "source": [
    "\n",
    "datasize = 250\n",
    "mass_ratio = 0.0\n",
    "dt = 100.0\n",
    "\n",
    "# TRAIN waveform parameters\n",
    "println(\"Train dataset creation\")\n",
    "\n",
    "χ₀ = Float64(pi); \n",
    "ϕ₀ = Float64(0.0); \n",
    "p=Float64(100.0); \n",
    "M=Float64(1.0); \n",
    "e = Float64(0.5)\n",
    "tspan_train = (0.0, 6.0f4)\n",
    "\n",
    "train_info = [get_problem_information_EMR_schwarzschild(χ₀, ϕ₀, p, M, e, mass_ratio, tspan_train, datasize, dt);]\n",
    "\n",
    "# TEST waveform parameters\n",
    "println(\"Test dataset creation\")\n",
    "\n",
    "χ₀ = Float64(pi); \n",
    "ϕ₀ = Float64(0.0); \n",
    "p=Float64(80.0); \n",
    "M=Float64(1.0); \n",
    "e = Float64(0.4)\n",
    "tspan_test = (tspan_train[2]*48, tspan_train[2]*50)\n",
    "factor = 5\n",
    "extended_tspan = (tspan_test[1], factor*tspan_test[2])\n",
    "\n",
    "test_info = [get_problem_information_EMR_schwarzschild(χ₀, ϕ₀, p, M, e, mass_ratio, tspan_test, datasize, dt)];\n",
    "\n",
    "# put data in arrays\n",
    "println(\"Processing datasets\")\n",
    "datasets = Dict(\"train\" => train_info, \"test\" => test_info)\n",
    "processed_data = process_datasets(datasets);\n"
   ]
  },
  {
   "cell_type": "markdown",
   "metadata": {},
   "source": [
    "## Get predictions"
   ]
  },
  {
   "cell_type": "code",
   "execution_count": 6,
   "metadata": {},
   "outputs": [
    {
     "ename": "UndefVarError",
     "evalue": "UndefVarError: processed_data not defined",
     "output_type": "error",
     "traceback": [
      "UndefVarError: processed_data not defined\n",
      "\n",
      "Stacktrace:\n",
      " [1] top-level scope\n",
      "   @ ~/Escritorio/TFM/code/01_project/src/processing/experiments/schwarzschild/case_1/EMR_schwarzschild_explore_results.ipynb:4"
     ]
    }
   ],
   "source": [
    "# save predictions\n",
    "predictions = Dict(\"train\" => [], \"test\" => [])\n",
    "\n",
    "for (set, set_data) in processed_data\n",
    "\n",
    "    for wave in set_data\n",
    "\n",
    "        println(\"Obtaining predictions for: \", set, \" : \", wave[\"index\"])\n",
    "\n",
    "        solution_nn = Array(\n",
    "            solve(wave[\"nn_problem\"], RK4(), u0 = wave[\"u0\"], \n",
    "            p = NN_params, saveat = wave[\"tsteps\"], \n",
    "            dt = wave[\"dt_data\"], adaptive=false\n",
    "        ))\n",
    "\n",
    "        predictions_wave_i = Dict()\n",
    "\n",
    "        predictions_wave_i[\"tsteps\"] = wave[\"tsteps\"]\n",
    "        predictions_wave_i[\"true_waveform\"] = wave[\"true_waveform\"]\n",
    "        predictions_wave_i[\"pred_waveform\"], _ = compute_waveform(wave[\"dt_data\"], solution_nn, wave[\"q\"], wave[\"M\"], wave[\"model_params\"])\n",
    "        predictions_wave_i[\"pred_solution\"] = solution_nn\n",
    "        predictions_wave_i[\"true_solution\"] = solution_nn\n",
    "        predictions_wave_i[\"pred_orbit\"] = soln2orbit(solution_nn, wave[\"M\"], wave[\"model_params\"])\n",
    "        predictions_wave_i[\"true_orbit\"] = soln2orbit(wave[\"true_solution\"], wave[\"M\"], wave[\"model_params\"])    \n",
    "\n",
    "        push!(predictions[set], predictions_wave_i)\n",
    "\n",
    "    end\n",
    "\n",
    "end\n"
   ]
  },
  {
   "cell_type": "markdown",
   "metadata": {},
   "source": [
    "## Save predictions"
   ]
  },
  {
   "cell_type": "code",
   "execution_count": 7,
   "metadata": {},
   "outputs": [
    {
     "ename": "BoundsError",
     "evalue": "BoundsError: attempt to access 0-element Vector{Any} at index [1]",
     "output_type": "error",
     "traceback": [
      "BoundsError: attempt to access 0-element Vector{Any} at index [1]\n",
      "\n",
      "Stacktrace:\n",
      " [1] getindex(A::Vector{Any}, i1::Int64)\n",
      "   @ Base ./array.jl:924\n",
      " [2] top-level scope\n",
      "   @ ~/Escritorio/TFM/code/01_project/src/processing/experiments/schwarzschild/case_1/EMR_schwarzschild_explore_results.ipynb:6"
     ]
    }
   ],
   "source": [
    "# NOTE: this can be easily convert into a function and iterate over systems to save info\n",
    "\n",
    "set = \"train\" # \"test\"\n",
    "wave_index = 1 #\n",
    "\n",
    "waveform_results_to_save = predictions[set][wave_index]\n",
    "\n",
    "orbits = DataFrame(\n",
    "    \"tsteps\" => waveform_results_to_save[\"tsteps\"],\n",
    "    \"pred_orbit_x\" => waveform_results_to_save[\"pred_orbit\"][1, :],\n",
    "    \"pred_orbit_y\" => waveform_results_to_save[\"pred_orbit\"][2, :],\n",
    "    \"true_orbit_x\" => waveform_results_to_save[\"true_orbit\"][1, :],\n",
    "    \"true_orbit_y\" => waveform_results_to_save[\"true_orbit\"][2, :]\n",
    ")\n",
    "\n",
    "equation_of_motion = DataFrame(\n",
    "    \"tsteps\" => waveform_results_to_save[\"tsteps\"],\n",
    "    \"pred_solution_chi\" => waveform_results_to_save[\"pred_solution\"][1, :],\n",
    "    \"pred_solution_phi\" => waveform_results_to_save[\"pred_solution\"][2, :],\n",
    "    \"true_solution_chi\" => waveform_results_to_save[\"true_solution\"][1, :],\n",
    "    \"true_solution_phi\" => waveform_results_to_save[\"true_solution\"][2, :]\n",
    ")\n",
    "\n",
    "waveforms = DataFrame(\n",
    "    \"tsteps\" => waveform_results_to_save[\"tsteps\"],\n",
    "    \"pred_waveform\" => waveform_results_to_save[\"pred_waveform\"],\n",
    "    \"true_waveform\" => waveform_results_to_save[\"true_waveform\"]\n",
    ")\n",
    "\n",
    "\n",
    "CSV.write(predictions_dir*\"waveforms.csv\", waveforms)\n",
    "CSV.write(predictions_dir*\"equation_of_motion.csv\", equation_of_motion)\n",
    "CSV.write(predictions_dir*\"orbits.csv\", orbits);"
   ]
  },
  {
   "cell_type": "markdown",
   "metadata": {},
   "source": [
    "## Plots"
   ]
  },
  {
   "cell_type": "code",
   "execution_count": 8,
   "metadata": {},
   "outputs": [],
   "source": [
    "plot_list = [];\n",
    "\n",
    "for (set, set_data) in predictions\n",
    "\n",
    "    for wave in set_data\n",
    "\n",
    "        title = uppercasefirst(set) * \" predictions\"\n",
    "\n",
    "        # waveforms\n",
    "        x1 = plot(\n",
    "            wave[\"tsteps\"], wave[\"true_waveform\"], \n",
    "            markershape=:none, alpha = 0.5, legend=false, \n",
    "            # title= title,\n",
    "            label=\"wform data (Re)\",\n",
    "            xlabel=\"Time\",\n",
    "            ylabel=\"Waveform\",\n",
    "            framestyle=:box,\n",
    "            linewidth = line_width,\n",
    "            left_margin = 20Plots.mm,\n",
    "            bottom_margin = 5Plots.mm,\n",
    "            size=(1200,350),\n",
    "    \n",
    "            color=:black,\n",
    "            seriestype=:scatter,\n",
    "            ms=5,\n",
    "        )\n",
    "        plot!(\n",
    "            x1, \n",
    "            wave[\"tsteps\"], wave[\"pred_waveform\"], \n",
    "            markershape=:none, linewidth = 2, alpha = 0.5, \n",
    "            label=\"wform NN (Re)\",\n",
    "                \n",
    "            framestyle=:box,\n",
    "\n",
    "            legendfontsize=legend_font_size,\n",
    "            # titlefontsize=title_font_size,\n",
    "            # guidefontsize=title_font_size,\n",
    "            # tickfontsize = tick_font_size;\n",
    "            gridalpha=grid_alpha,\n",
    "            gridstyle=grid_style,\n",
    "        )\n",
    "\n",
    "        # orbits\n",
    "        orbits = wave[\"pred_orbit\"]\n",
    "        N = size(orbits, 2)\n",
    "        x2 = plot(\n",
    "            wave[\"true_orbit\"][1,:][1:N],\n",
    "            wave[\"true_orbit\"][2,:][1:N],\n",
    "            alpha = 0.5, aspect_ratio=:equal,\n",
    "            label=\"data\",\n",
    "            xlabel=\"x\",\n",
    "            ylabel=\"y\",\n",
    "    \n",
    "            bottom_margin = 5Plots.mm,\n",
    "    \n",
    "            legendfontsize=legend_font_size,\n",
    "            titlefontsize=title_font_size,\n",
    "            guidefontsize=title_font_size,\n",
    "            linewidth = line_width,\n",
    "            tickfontsize = tick_font_size;\n",
    "            gridalpha=grid_alpha,\n",
    "            gridstyle=grid_style,\n",
    "            left_margin = 20Plots.mm,\n",
    "            framestyle=:box,\n",
    "            color=:black,\n",
    "            legend=:outertop,  \n",
    "        )\n",
    "        plot!(x2, orbits[1,1:end-1], orbits[2,1:end-1],\n",
    "            alpha = 0.5, \n",
    "            aspect_ratio=:equal,\n",
    "            label=\"NN\",\n",
    "            framestyle=:box,\n",
    "            legendfontsize=legend_font_size,\n",
    "            titlefontsize=title_font_size,\n",
    "            guidefontsize=title_font_size,\n",
    "            linewidth = line_width,\n",
    "            tickfontsize = tick_font_size;\n",
    "            gridalpha=grid_alpha,\n",
    "            gridstyle=grid_style,\n",
    "            # linestyle=:dash\n",
    "        )\n",
    "\n",
    "        plt = plot(x1, x2, layout=grid(1,2), size=(2000, 900))\n",
    "        push!(plot_list, plt)\n",
    "    \n",
    "    end\n",
    "\n",
    "end"
   ]
  },
  {
   "cell_type": "code",
   "execution_count": 9,
   "metadata": {},
   "outputs": [
    {
     "ename": "BoundsError",
     "evalue": "BoundsError: attempt to access 0-element Vector{Any} at index [0]",
     "output_type": "error",
     "traceback": [
      "BoundsError: attempt to access 0-element Vector{Any} at index [0]\n",
      "\n",
      "Stacktrace:\n",
      " [1] getindex(A::Vector{Any}, i1::Int64)\n",
      "   @ Base ./array.jl:924\n",
      " [2] top-level scope\n",
      "   @ ~/Escritorio/TFM/code/01_project/src/processing/experiments/schwarzschild/case_1/EMR_schwarzschild_explore_results.ipynb:1"
     ]
    }
   ],
   "source": [
    "display(plot_list[end])"
   ]
  },
  {
   "cell_type": "code",
   "execution_count": 10,
   "metadata": {},
   "outputs": [
    {
     "ename": "UndefVarError",
     "evalue": "UndefVarError: plt not defined",
     "output_type": "error",
     "traceback": [
      "UndefVarError: plt not defined\n",
      "\n",
      "Stacktrace:\n",
      " [1] top-level scope\n",
      "   @ ~/Escritorio/TFM/code/01_project/src/processing/experiments/schwarzschild/case_1/EMR_schwarzschild_explore_results.ipynb:1"
     ]
    }
   ],
   "source": [
    "savefig(plt, predictions_dir*\"orbits_plot.png\")"
   ]
  }
 ],
 "metadata": {
  "kernelspec": {
   "display_name": "Julia 1.8.2",
   "language": "julia",
   "name": "julia-1.8"
  },
  "language_info": {
   "file_extension": ".jl",
   "mimetype": "application/julia",
   "name": "julia",
   "version": "1.8.2"
  }
 },
 "nbformat": 4,
 "nbformat_minor": 2
}
